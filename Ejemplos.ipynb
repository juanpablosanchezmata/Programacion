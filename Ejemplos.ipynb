{
  "nbformat": 4,
  "nbformat_minor": 0,
  "metadata": {
    "colab": {
      "provenance": [],
      "authorship_tag": "ABX9TyN9JJgTfnxBpxXO9vkoA2Sr",
      "include_colab_link": true
    },
    "kernelspec": {
      "name": "python3",
      "display_name": "Python 3"
    },
    "language_info": {
      "name": "python"
    }
  },
  "cells": [
    {
      "cell_type": "markdown",
      "metadata": {
        "id": "view-in-github",
        "colab_type": "text"
      },
      "source": [
        "<a href=\"https://colab.research.google.com/github/juanpablosanchezmata/Programacion/blob/main/Ejemplos.ipynb\" target=\"_parent\"><img src=\"https://colab.research.google.com/assets/colab-badge.svg\" alt=\"Open In Colab\"/></a>"
      ]
    },
    {
      "cell_type": "code",
      "execution_count": 4,
      "metadata": {
        "colab": {
          "base_uri": "https://localhost:8080/"
        },
        "id": "h0-9wJhk3dYZ",
        "outputId": "2ac696fb-1bbf-47f1-bd8b-bc192a1748ad"
      },
      "outputs": [
        {
          "output_type": "execute_result",
          "data": {
            "text/plain": [
              "['ING INDUSTRIAL', 'ING TICS', 'ING SISTEMAS', 'ING ELECTROMECÁNICA']"
            ]
          },
          "metadata": {},
          "execution_count": 4
        }
      ],
      "source": [
        "Escuela = ['ING INDUSTRIAL', 'ING TICS', 'ING SISTEMAS', 'ING ELECTROMECÁNICA']\n",
        "Escuela"
      ]
    },
    {
      "cell_type": "code",
      "source": [
        "Escuela [1]"
      ],
      "metadata": {
        "colab": {
          "base_uri": "https://localhost:8080/",
          "height": 35
        },
        "id": "3mLB7eWj4Lk0",
        "outputId": "85fadd65-7429-41a2-ed9a-830dddab68da"
      },
      "execution_count": 5,
      "outputs": [
        {
          "output_type": "execute_result",
          "data": {
            "text/plain": [
              "'ING TICS'"
            ],
            "application/vnd.google.colaboratory.intrinsic+json": {
              "type": "string"
            }
          },
          "metadata": {},
          "execution_count": 5
        }
      ]
    },
    {
      "cell_type": "code",
      "source": [
        "Listas = [[5, 17, 20, 5], [20, 1, 37, 100]]\n",
        "Listas  [0][1]"
      ],
      "metadata": {
        "colab": {
          "base_uri": "https://localhost:8080/"
        },
        "id": "Nw4VPuch7AmF",
        "outputId": "d45b9d1c-3bc8-4361-b0de-883bd605bc3d"
      },
      "execution_count": 10,
      "outputs": [
        {
          "output_type": "execute_result",
          "data": {
            "text/plain": [
              "17"
            ]
          },
          "metadata": {},
          "execution_count": 10
        }
      ]
    },
    {
      "cell_type": "code",
      "source": [
        "Escuela.append('ING ELECTRÓNICA')\n",
        "Escuela"
      ],
      "metadata": {
        "colab": {
          "base_uri": "https://localhost:8080/"
        },
        "id": "iGQjcew694Vy",
        "outputId": "783cf287-c37c-4ec1-ebb2-06bf7d627177"
      },
      "execution_count": 13,
      "outputs": [
        {
          "output_type": "execute_result",
          "data": {
            "text/plain": [
              "['ING INDUSTRIAL',\n",
              " 'ING TICS',\n",
              " 'ING SISTEMAS',\n",
              " 'ING ELECTROMECÁNICA',\n",
              " 'ING ELECTRÓNICA',\n",
              " 'ING ELECTRÓNICA']"
            ]
          },
          "metadata": {},
          "execution_count": 13
        }
      ]
    },
    {
      "cell_type": "code",
      "source": [
        "Lista2 = [1, 2, 50, 34, 8]\n",
        "print (Lista2)\n",
        "Lista2.extend(range(3, 4))\n",
        "print (Lista2)"
      ],
      "metadata": {
        "colab": {
          "base_uri": "https://localhost:8080/"
        },
        "id": "hTlQRw9N_T8k",
        "outputId": "aa8cedc3-3e7d-498e-841b-c561cc565390"
      },
      "execution_count": 27,
      "outputs": [
        {
          "output_type": "stream",
          "name": "stdout",
          "text": [
            "[1, 2, 50, 34, 8]\n",
            "[1, 2, 50, 34, 8, 3]\n"
          ]
        }
      ]
    },
    {
      "cell_type": "code",
      "source": [
        "vocales = 'aeiou'\n",
        "for letra in 'hermosa':\n",
        "  if letra in vocales:\n",
        "    print (letra)"
      ],
      "metadata": {
        "colab": {
          "base_uri": "https://localhost:8080/"
        },
        "id": "h2z7EFQ1LWuZ",
        "outputId": "f9310562-f1e1-4380-ea60-156b70e06698"
      },
      "execution_count": 28,
      "outputs": [
        {
          "output_type": "stream",
          "name": "stdout",
          "text": [
            "e\n",
            "o\n",
            "a\n"
          ]
        }
      ]
    },
    {
      "cell_type": "code",
      "source": [
        "mensaje = \"Hola, como estas tu?\"\n",
        "mensaje.split()\n",
        "['Hola,', 'como', 'estas', 'tu?']\n",
        "for palabra in mensaje.split():\n",
        "  print (palabra)"
      ],
      "metadata": {
        "colab": {
          "base_uri": "https://localhost:8080/"
        },
        "id": "x7yLg6q7Lh7B",
        "outputId": "d4fdf346-5e23-40f5-87b9-d3f34cf54bcb"
      },
      "execution_count": 29,
      "outputs": [
        {
          "output_type": "stream",
          "name": "stdout",
          "text": [
            "Hola,\n",
            "como\n",
            "estas\n",
            "tu?\n"
          ]
        }
      ]
    },
    {
      "cell_type": "code",
      "source": [
        "preguntas = ['nombre', 'objetivo', 'sistema operativo']\n",
        "respuestas = ['Leonardo', 'aprender Python y Plone', 'Linux']\n",
        "for pregunta, respuesta in zip(preguntas, respuestas):\n",
        "  print ('¿Cual es tu {0}?, la respuesta es: {1}.'.format(pregunta, respuesta))"
      ],
      "metadata": {
        "colab": {
          "base_uri": "https://localhost:8080/"
        },
        "id": "k31gVmPxL6ks",
        "outputId": "6ac4f356-d7f2-4434-fa47-02979cf48c2c"
      },
      "execution_count": 31,
      "outputs": [
        {
          "output_type": "stream",
          "name": "stdout",
          "text": [
            "¿Cual es tu nombre?, la respuesta es: Leonardo.\n",
            "¿Cual es tu objetivo?, la respuesta es: aprender Python y Plone.\n",
            "¿Cual es tu sistema operativo?, la respuesta es: Linux.\n"
          ]
        }
      ]
    }
  ]
}