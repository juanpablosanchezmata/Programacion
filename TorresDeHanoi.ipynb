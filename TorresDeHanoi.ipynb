{
  "nbformat": 4,
  "nbformat_minor": 0,
  "metadata": {
    "colab": {
      "provenance": [],
      "authorship_tag": "ABX9TyOCsQZMjjzZA/kcKg53fzQF",
      "include_colab_link": true
    },
    "kernelspec": {
      "name": "python3",
      "display_name": "Python 3"
    },
    "language_info": {
      "name": "python"
    }
  },
  "cells": [
    {
      "cell_type": "markdown",
      "metadata": {
        "id": "view-in-github",
        "colab_type": "text"
      },
      "source": [
        "<a href=\"https://colab.research.google.com/github/juanpablosanchezmata/Programacion/blob/main/TorresDeHanoi.ipynb\" target=\"_parent\"><img src=\"https://colab.research.google.com/assets/colab-badge.svg\" alt=\"Open In Colab\"/></a>"
      ]
    },
    {
      "cell_type": "code",
      "execution_count": 3,
      "metadata": {
        "id": "wSAlfxZMGLRz"
      },
      "outputs": [],
      "source": [
        "def hanoi(n, pivote_inicial, pivote_final, pivote_auxiliar):\n",
        "  if n==1:\n",
        "    print(pivote_inicial+\"->\"+pivote_final)\n",
        "  else:\n",
        "    hanoi(n-1, pivote_inicial, pivote_auxiliar, pivote_final)\n",
        "    print(pivote_inicial+\"->\"+pivote_final)\n",
        "    hanoi(n-1, pivote_auxiliar, pivote_final, pivote_inicial)"
      ]
    },
    {
      "cell_type": "code",
      "source": [
        "hanoi(3,\"0\", \"2\", \"1\")"
      ],
      "metadata": {
        "colab": {
          "base_uri": "https://localhost:8080/"
        },
        "id": "14jEMulVIOsd",
        "outputId": "230a2a64-b598-4e47-d639-b40692e57cf9"
      },
      "execution_count": 5,
      "outputs": [
        {
          "output_type": "stream",
          "name": "stdout",
          "text": [
            "0->2\n",
            "0->1\n",
            "2->1\n",
            "0->2\n",
            "1->0\n",
            "1->2\n",
            "0->2\n"
          ]
        }
      ]
    }
  ]
}