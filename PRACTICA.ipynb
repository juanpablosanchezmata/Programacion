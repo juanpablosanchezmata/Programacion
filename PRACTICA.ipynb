{
  "nbformat": 4,
  "nbformat_minor": 0,
  "metadata": {
    "colab": {
      "provenance": [],
      "collapsed_sections": [],
      "authorship_tag": "ABX9TyPs5d8HMnpTZvN7spYLv1Of",
      "include_colab_link": true
    },
    "kernelspec": {
      "name": "python3",
      "display_name": "Python 3"
    },
    "language_info": {
      "name": "python"
    }
  },
  "cells": [
    {
      "cell_type": "markdown",
      "metadata": {
        "id": "view-in-github",
        "colab_type": "text"
      },
      "source": [
        "<a href=\"https://colab.research.google.com/github/juanpablosanchezmata/Programacion/blob/main/PRACTICA.ipynb\" target=\"_parent\"><img src=\"https://colab.research.google.com/assets/colab-badge.svg\" alt=\"Open In Colab\"/></a>"
      ]
    },
    {
      "cell_type": "code",
      "source": [
        "print(\"\"\"\n",
        "    1) Impresion de listas\n",
        "    2) Insertar valor al fin de la lista\n",
        "    3) Eliminar ultimo\n",
        "    4) Insertar valor indicando el valor en la lista\n",
        "    5) Ordene de A a Z\n",
        "    6) Ordene de Z a A\n",
        "    7) Buscar en la lista y remover el primero\n",
        "    8) Pide un valor negativo e imprime el registro correspondiente\n",
        "    9) Salir\n",
        "    \"\"\")\n",
        "\n",
        "# Leemos lo que ingresa el usuario\n",
        "eligio=input(\"-Selecciona algo :\")\n",
        "\n",
        "# Según lo que ingresó, código diferente\n",
        "if eligio==\"1\":\n",
        "    print(\"Impresion de listas\")\n",
        "    Alumnos = ['Pablo', 'Oscar', 'Francisco']\n",
        "    print (Alumnos)\n",
        "\n",
        "elif eligio==\"2\":\n",
        "    print(\"Insertar valor al fin de la lista\")\n",
        "    Alumnos2 = ['Pablo', 'Oscar', 'Francisco']\n",
        "    print (Alumnos2) \n",
        "    Alumnos2.append('Juan')\n",
        "    print (Alumnos2)\n",
        "\n",
        "elif eligio==\"3\":\n",
        "    print(\"Eliminar ultimo\")\n",
        "    Alumnos3 = ['Pablo', 'Oscar', 'Francisco', 'Juan']\n",
        "    print (Alumnos3.pop())\n",
        "    print (Alumnos3)\n",
        "\n",
        "elif eligio==\"4\":\n",
        "    print(\"Insertar valor indicando el valor en la lista\")\n",
        "    \n",
        "\n",
        "elif eligio==\"5\":\n",
        "    print(\"Ordene de A a Z\")\n",
        "    Alumnos5 = ['Pedro', 'Luis', 'Andrea', 'Brenda', 'Ximena']\n",
        "    print (Alumnos5)\n",
        "    Alumnos5.sort()\n",
        "    print (Alumnos5)\n",
        "\n",
        "elif eligio==\"6\":\n",
        "    print(\"Ordene de Z a A\")\n",
        "    Alumnos6 = ['Pedro', 'Luis', 'Andrea', 'Brenda', 'Ximena']\n",
        "    print (Alumnos6)\n",
        "    Alumnos6.sort(reverse=True)\n",
        "    print (Alumnos6)\n",
        "\n",
        "elif eligio==\"7\":\n",
        "    print(\"Buscar en la lista y remover el primero\")\n",
        "    Alumnos7 = ['Pablo', 'Oscar', 'Francisco', 'Juan']\n",
        "    print (Alumnos7)\n",
        "    Alumnos7.remove('Pablo')\n",
        "    print (Alumnos7)\n",
        "\n",
        "elif eligio==\"8\":\n",
        "    print(\"Pide un valor negativo e imprime el registro correspondiente\")\n",
        "\n",
        "elif eligio==\"9\":\n",
        "    print(\"Salir\")\n",
        "else:\n",
        "\n",
        "    print(\"Opción no válida\")"
      ],
      "metadata": {
        "colab": {
          "base_uri": "https://localhost:8080/"
        },
        "id": "ovDPonSFmQJc",
        "outputId": "b4106462-4aae-4571-9d3d-5f74ac2a3507"
      },
      "execution_count": null,
      "outputs": [
        {
          "output_type": "stream",
          "name": "stdout",
          "text": [
            "\n",
            "    1) Impresion de listas\n",
            "    2) Insertar valor al fin de la lista\n",
            "    3) Eliminar ultimo\n",
            "    4) Insertar valor indicando el valor en la lista\n",
            "    5) Ordene de A a Z\n",
            "    6) Ordene de Z a A\n",
            "    7) Buscar en la lista y remover el primero\n",
            "    8) Pide un valor negativo e imprime el registro correspondiente\n",
            "    9) Salir\n",
            "    \n",
            "-Selecciona algo :7\n",
            "Buscar en la lista y remover el primero\n",
            "['Pablo', 'Oscar', 'Francisco', 'Juan']\n",
            "['Oscar', 'Francisco', 'Juan']\n"
          ]
        }
      ]
    }
  ]
}