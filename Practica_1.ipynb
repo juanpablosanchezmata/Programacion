{
  "nbformat": 4,
  "nbformat_minor": 0,
  "metadata": {
    "colab": {
      "provenance": [],
      "collapsed_sections": [],
      "authorship_tag": "ABX9TyMVh1812GztSC8Mm9LBNDqF",
      "include_colab_link": true
    },
    "kernelspec": {
      "name": "python3",
      "display_name": "Python 3"
    },
    "language_info": {
      "name": "python"
    }
  },
  "cells": [
    {
      "cell_type": "markdown",
      "metadata": {
        "id": "view-in-github",
        "colab_type": "text"
      },
      "source": [
        "<a href=\"https://colab.research.google.com/github/juanpablosanchezmata/Programacion/blob/main/Practica_1.ipynb\" target=\"_parent\"><img src=\"https://colab.research.google.com/assets/colab-badge.svg\" alt=\"Open In Colab\"/></a>"
      ]
    },
    {
      "cell_type": "markdown",
      "source": [
        "Practica 1:\n",
        "Comparacion de vectores\n",
        "Juan pablo sánchez mata\n",
        "22/08/2022"
      ],
      "metadata": {
        "id": "92gx9gZFcB5V"
      }
    },
    {
      "cell_type": "markdown",
      "source": [
        "##\"ALGORITMO\""
      ],
      "metadata": {
        "id": "7SLyTkNBck2Q"
      }
    },
    {
      "cell_type": "markdown",
      "source": [
        "Vamos a capturar un texto, lo vamos a pasar aun vector, y se va a comparar con otro vector y revisar todas o alguna de las palabras; si estan todas las palabras, se realiza una acción, se utiliza los metodos split() "
      ],
      "metadata": {
        "id": "-YRTh1eocv3g"
      }
    },
    {
      "cell_type": "code",
      "source": [
        "Texto=\"Hola, Buenos dias, Como estas, Bienvenido a la clase\"\n",
        "aTexto=Texto.split()"
      ],
      "metadata": {
        "id": "8ysBuoLCdu05"
      },
      "execution_count": null,
      "outputs": []
    },
    {
      "cell_type": "code",
      "source": [
        "print(aTexto)"
      ],
      "metadata": {
        "colab": {
          "base_uri": "https://localhost:8080/"
        },
        "id": "ynKYqE7YeySI",
        "outputId": "e1dd8612-b9d0-43e0-e6e2-0ed8217811c3"
      },
      "execution_count": null,
      "outputs": [
        {
          "output_type": "stream",
          "name": "stdout",
          "text": [
            "['Hola,', 'Buenos', 'dias,', 'Como', 'estas,', 'Bienvenido', 'a', 'la', 'clase']\n"
          ]
        }
      ]
    },
    {
      "cell_type": "markdown",
      "source": [
        "Construimos el metodo de busqueda"
      ],
      "metadata": {
        "id": "gxP44JNne86-"
      }
    },
    {
      "cell_type": "code",
      "source": [
        "Palabras=['Hola', 'Como', 'estas', 'Bienvenido']"
      ],
      "metadata": {
        "id": "YXvvwUU5fA9R"
      },
      "execution_count": null,
      "outputs": []
    },
    {
      "cell_type": "markdown",
      "source": [
        "Buscamos si existe ulguna coincidencia"
      ],
      "metadata": {
        "id": "YjC_b3BQgbsB"
      }
    },
    {
      "cell_type": "code",
      "source": [
        "if any(Palabras in aTexto for Palabras in Palabras):\n",
        "  print(\"La frase es un saludo\")\n",
        "else:\n",
        "  print(\"La frase no es un saludo\")"
      ],
      "metadata": {
        "colab": {
          "base_uri": "https://localhost:8080/"
        },
        "id": "O1gSdm9vgq86",
        "outputId": "ae4e7c62-03af-4671-f1fe-8c3c712debe4"
      },
      "execution_count": null,
      "outputs": [
        {
          "output_type": "stream",
          "name": "stdout",
          "text": [
            "La frase es un saludo\n"
          ]
        }
      ]
    },
    {
      "cell_type": "markdown",
      "source": [
        "Ahora con all\n",
        "Con all tiene que coincidir todas las palabras"
      ],
      "metadata": {
        "id": "xPUgENIIlKE2"
      }
    },
    {
      "cell_type": "code",
      "source": [
        "Palabras=['Hola', 'Como', 'estas', 'Bienvenido', 'Que onda']"
      ],
      "metadata": {
        "id": "lRojq7HOlMLm"
      },
      "execution_count": null,
      "outputs": []
    },
    {
      "cell_type": "code",
      "source": [
        "if all(Palabras in aTexto for Palabras in Palabras):\n",
        "  print(\"La frase es un saludo\")\n",
        "else:\n",
        "  print(\"La frase no es un saludo\")"
      ],
      "metadata": {
        "colab": {
          "base_uri": "https://localhost:8080/",
          "height": 217
        },
        "id": "5LfQqviXl1Vh",
        "outputId": "96b0aa0e-1279-4923-dc0b-67d915184f7b"
      },
      "execution_count": null,
      "outputs": [
        {
          "output_type": "error",
          "ename": "NameError",
          "evalue": "ignored",
          "traceback": [
            "\u001b[0;31m---------------------------------------------------------------------------\u001b[0m",
            "\u001b[0;31mNameError\u001b[0m                                 Traceback (most recent call last)",
            "\u001b[0;32m<ipython-input-1-59240a83dcfa>\u001b[0m in \u001b[0;36m<module>\u001b[0;34m\u001b[0m\n\u001b[0;32m----> 1\u001b[0;31m \u001b[0;32mif\u001b[0m \u001b[0mall\u001b[0m\u001b[0;34m(\u001b[0m\u001b[0mPalabras\u001b[0m \u001b[0;32min\u001b[0m \u001b[0maTexto\u001b[0m \u001b[0;32mfor\u001b[0m \u001b[0mPalabras\u001b[0m \u001b[0;32min\u001b[0m \u001b[0mPalabras\u001b[0m\u001b[0;34m)\u001b[0m\u001b[0;34m:\u001b[0m\u001b[0;34m\u001b[0m\u001b[0;34m\u001b[0m\u001b[0m\n\u001b[0m\u001b[1;32m      2\u001b[0m   \u001b[0mprint\u001b[0m\u001b[0;34m(\u001b[0m\u001b[0;34m\"La frase es un saludo\"\u001b[0m\u001b[0;34m)\u001b[0m\u001b[0;34m\u001b[0m\u001b[0;34m\u001b[0m\u001b[0m\n\u001b[1;32m      3\u001b[0m \u001b[0;32melse\u001b[0m\u001b[0;34m:\u001b[0m\u001b[0;34m\u001b[0m\u001b[0;34m\u001b[0m\u001b[0m\n\u001b[1;32m      4\u001b[0m   \u001b[0mprint\u001b[0m\u001b[0;34m(\u001b[0m\u001b[0;34m\"La frase no es un saludo\"\u001b[0m\u001b[0;34m)\u001b[0m\u001b[0;34m\u001b[0m\u001b[0;34m\u001b[0m\u001b[0m\n",
            "\u001b[0;31mNameError\u001b[0m: name 'Palabras' is not defined"
          ]
        }
      ]
    }
  ]
}