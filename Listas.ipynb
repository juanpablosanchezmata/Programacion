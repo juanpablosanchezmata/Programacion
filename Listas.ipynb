{
  "nbformat": 4,
  "nbformat_minor": 0,
  "metadata": {
    "colab": {
      "provenance": [],
      "authorship_tag": "ABX9TyPDmfkYhlLqTnYJeYPqrEkz",
      "include_colab_link": true
    },
    "kernelspec": {
      "name": "python3",
      "display_name": "Python 3"
    },
    "language_info": {
      "name": "python"
    }
  },
  "cells": [
    {
      "cell_type": "markdown",
      "metadata": {
        "id": "view-in-github",
        "colab_type": "text"
      },
      "source": [
        "<a href=\"https://colab.research.google.com/github/juanpablosanchezmata/Programacion/blob/main/Listas.ipynb\" target=\"_parent\"><img src=\"https://colab.research.google.com/assets/colab-badge.svg\" alt=\"Open In Colab\"/></a>"
      ]
    },
    {
      "cell_type": "code",
      "execution_count": null,
      "metadata": {
        "id": "H3AvGyF2uUpN"
      },
      "outputs": [],
      "source": [
        "factura = ['pan', 'huevos', 100, 1234]"
      ]
    },
    {
      "cell_type": "code",
      "source": [
        "factura"
      ],
      "metadata": {
        "colab": {
          "base_uri": "https://localhost:8080/"
        },
        "id": "YZrrV9xzvhUM",
        "outputId": "97af8213-81e3-489f-a901-d438d3c1934c"
      },
      "execution_count": null,
      "outputs": [
        {
          "output_type": "execute_result",
          "data": {
            "text/plain": [
              "['pan', 'huevos', 100, 1234]"
            ]
          },
          "metadata": {},
          "execution_count": 9
        }
      ]
    },
    {
      "cell_type": "code",
      "source": [
        "factura [1]"
      ],
      "metadata": {
        "colab": {
          "base_uri": "https://localhost:8080/",
          "height": 35
        },
        "id": "ep4MAIdQvkUU",
        "outputId": "9a83ca2a-58b5-4413-a0ea-0fda19871111"
      },
      "execution_count": null,
      "outputs": [
        {
          "output_type": "execute_result",
          "data": {
            "text/plain": [
              "'huevos'"
            ],
            "application/vnd.google.colaboratory.intrinsic+json": {
              "type": "string"
            }
          },
          "metadata": {},
          "execution_count": 10
        }
      ]
    },
    {
      "cell_type": "code",
      "source": [
        "try:\n",
        "  print [-5]\n",
        "except:\n",
        "  print(\"exception ocurred\")"
      ],
      "metadata": {
        "colab": {
          "base_uri": "https://localhost:8080/"
        },
        "id": "Wm62fyJpxbzN",
        "outputId": "e1434f19-412f-4f2f-eff8-2ba328f60c2d"
      },
      "execution_count": null,
      "outputs": [
        {
          "output_type": "stream",
          "name": "stdout",
          "text": [
            "exception ocurred\n"
          ]
        }
      ]
    },
    {
      "cell_type": "code",
      "source": [
        "versiones = [2.5, 3.6, 4, 5]\n",
        "print (versiones)"
      ],
      "metadata": {
        "colab": {
          "base_uri": "https://localhost:8080/"
        },
        "id": "LsiismbpyZoX",
        "outputId": "1216b2c2-6d1b-40e9-e8fc-4cded899f6bb"
      },
      "execution_count": null,
      "outputs": [
        {
          "output_type": "stream",
          "name": "stdout",
          "text": [
            "[2.5, 3.6, 4, 5]\n"
          ]
        }
      ]
    },
    {
      "cell_type": "code",
      "source": [
        "versiones.append(6)\n",
        "print (versiones)"
      ],
      "metadata": {
        "colab": {
          "base_uri": "https://localhost:8080/"
        },
        "id": "MjA5yurnzoyJ",
        "outputId": "847759a2-d99a-4cd1-b2c4-6e8917f209d9"
      },
      "execution_count": null,
      "outputs": [
        {
          "output_type": "stream",
          "name": "stdout",
          "text": [
            "[2.5, 3.6, 4, 5, 6]\n"
          ]
        }
      ]
    },
    {
      "cell_type": "code",
      "source": [
        "versiones = [2.1, 2.5, 3.6, 4, 5, 6]\n",
        "print (\"6 ->\"), versiones.count(6)"
      ],
      "metadata": {
        "colab": {
          "base_uri": "https://localhost:8080/"
        },
        "id": "r30abvHJzzmM",
        "outputId": "bb8e0856-f586-4357-b4ba-ed6001bb32c8"
      },
      "execution_count": null,
      "outputs": [
        {
          "output_type": "stream",
          "name": "stdout",
          "text": [
            "6 ->\n"
          ]
        },
        {
          "output_type": "execute_result",
          "data": {
            "text/plain": [
              "(None, 1)"
            ]
          },
          "metadata": {},
          "execution_count": 23
        }
      ]
    },
    {
      "cell_type": "code",
      "source": [
        "versiones = [2.1, 2.5, 3.6]\n",
        "print (versiones)"
      ],
      "metadata": {
        "colab": {
          "base_uri": "https://localhost:8080/"
        },
        "id": "Cv1qpo6D1-Mk",
        "outputId": "81e20627-bac0-4e6d-ed6c-33221dafb899"
      },
      "execution_count": null,
      "outputs": [
        {
          "output_type": "stream",
          "name": "stdout",
          "text": [
            "[2.1, 2.5, 3.6]\n"
          ]
        }
      ]
    },
    {
      "cell_type": "code",
      "source": [
        "versiones.extend([4])\n",
        "print (versiones)"
      ],
      "metadata": {
        "colab": {
          "base_uri": "https://localhost:8080/"
        },
        "id": "IZfUzqaT2aKi",
        "outputId": "cae6f7d9-c4a1-49bc-b651-000493ebc229"
      },
      "execution_count": null,
      "outputs": [
        {
          "output_type": "stream",
          "name": "stdout",
          "text": [
            "[2.1, 2.5, 3.6, 4]\n"
          ]
        }
      ]
    },
    {
      "cell_type": "code",
      "source": [
        "versiones.extend(range(5,7))\n",
        "print (versiones)"
      ],
      "metadata": {
        "colab": {
          "base_uri": "https://localhost:8080/"
        },
        "id": "qqxdfeLa2jCd",
        "outputId": "f7f222c2-5825-4784-96be-988e574eb95b"
      },
      "execution_count": null,
      "outputs": [
        {
          "output_type": "stream",
          "name": "stdout",
          "text": [
            "[2.1, 2.5, 3.6, 4, 5, 6]\n"
          ]
        }
      ]
    },
    {
      "cell_type": "code",
      "source": [
        "versiones = [2.1, 2.5, 3.6, 4, 5, 6, 4]\n",
        "print (versiones.index(4))"
      ],
      "metadata": {
        "colab": {
          "base_uri": "https://localhost:8080/"
        },
        "id": "S3Phntp63ak6",
        "outputId": "f60a6b3b-e9dc-4c78-a8ae-e7e9541738fc"
      },
      "execution_count": null,
      "outputs": [
        {
          "output_type": "stream",
          "name": "stdout",
          "text": [
            "3\n"
          ]
        }
      ]
    },
    {
      "cell_type": "code",
      "source": [
        "versiones = [2.1, 2.5, 3.6, 4, 5, 6, 4]\n",
        "versiones[2]"
      ],
      "metadata": {
        "colab": {
          "base_uri": "https://localhost:8080/"
        },
        "id": "nSrqIZ2h4h88",
        "outputId": "0968ca67-d769-45d0-ee56-a4d2cc4f4cd2"
      },
      "execution_count": null,
      "outputs": [
        {
          "output_type": "execute_result",
          "data": {
            "text/plain": [
              "3.6"
            ]
          },
          "metadata": {},
          "execution_count": 34
        }
      ]
    },
    {
      "cell_type": "code",
      "source": [
        "print (versiones.index(4,2))"
      ],
      "metadata": {
        "colab": {
          "base_uri": "https://localhost:8080/"
        },
        "id": "b7Ru9ZX34v71",
        "outputId": "96736e46-688b-4d1b-ae59-43ddc169e651"
      },
      "execution_count": null,
      "outputs": [
        {
          "output_type": "stream",
          "name": "stdout",
          "text": [
            "3\n"
          ]
        }
      ]
    },
    {
      "cell_type": "code",
      "source": [
        "versiones[3]"
      ],
      "metadata": {
        "colab": {
          "base_uri": "https://localhost:8080/"
        },
        "id": "9hNn_FZx46ll",
        "outputId": "2a05cf45-f5d1-40fd-ee59-52fdf9dbfd38"
      },
      "execution_count": null,
      "outputs": [
        {
          "output_type": "execute_result",
          "data": {
            "text/plain": [
              "4"
            ]
          },
          "metadata": {},
          "execution_count": 36
        }
      ]
    },
    {
      "cell_type": "code",
      "source": [
        "versiones = [2.1, 2.5, 3.6, 4, 5, 6, 4]\n",
        "print (versiones.index(5))"
      ],
      "metadata": {
        "colab": {
          "base_uri": "https://localhost:8080/"
        },
        "id": "Xm_5bjrT5KmE",
        "outputId": "6cf0acea-7c2a-4d17-986d-3b8a1e02b198"
      },
      "execution_count": null,
      "outputs": [
        {
          "output_type": "stream",
          "name": "stdout",
          "text": [
            "4\n"
          ]
        }
      ]
    },
    {
      "cell_type": "code",
      "source": [
        "versiones = [2.1, 2.5, 3.6, 4, 5, 6]\n",
        "print (versiones)\n",
        "\n",
        "versiones.insert(2, 3.7)\n",
        "print (versiones)"
      ],
      "metadata": {
        "colab": {
          "base_uri": "https://localhost:8080/"
        },
        "id": "QcWEo11Y6urS",
        "outputId": "2a2f1e0e-cb17-4180-e1c6-50c4adcf4fa5"
      },
      "execution_count": null,
      "outputs": [
        {
          "output_type": "stream",
          "name": "stdout",
          "text": [
            "[2.1, 2.5, 3.6, 4, 5, 6]\n",
            "[2.1, 2.5, 3.7, 3.6, 4, 5, 6]\n"
          ]
        }
      ]
    },
    {
      "cell_type": "code",
      "source": [
        "versiones = [2.1, 2.5, 3.6, 4, 5, 6]\n",
        "print (versiones.pop())\n",
        "\n",
        "print (versiones)\n"
      ],
      "metadata": {
        "colab": {
          "base_uri": "https://localhost:8080/"
        },
        "id": "7OhZr4OS74wl",
        "outputId": "360983a7-8455-42da-c2a6-781ffdaca2f5"
      },
      "execution_count": null,
      "outputs": [
        {
          "output_type": "stream",
          "name": "stdout",
          "text": [
            "6\n",
            "[2.1, 2.5, 3.6, 4, 5]\n"
          ]
        }
      ]
    },
    {
      "cell_type": "code",
      "source": [
        "versiones = [2.1, 2.5, 3.6, 4, 5, 6]\n",
        "print (versiones)\n",
        "\n",
        "versiones.remove(2.5)\n",
        "print (versiones)"
      ],
      "metadata": {
        "colab": {
          "base_uri": "https://localhost:8080/"
        },
        "id": "YNJOBuim8h6K",
        "outputId": "040bbf5f-4081-4888-d096-641e207e9d4f"
      },
      "execution_count": null,
      "outputs": [
        {
          "output_type": "stream",
          "name": "stdout",
          "text": [
            "[2.1, 2.5, 3.6, 4, 5, 6]\n",
            "[2.1, 3.6, 4, 5, 6]\n"
          ]
        }
      ]
    },
    {
      "cell_type": "code",
      "source": [
        "versiones = [2.1, 2.5, 3.6, 4, 5, 6]\n",
        "print (versiones)\n",
        "\n",
        "versiones.reverse()\n",
        "print (versiones)"
      ],
      "metadata": {
        "colab": {
          "base_uri": "https://localhost:8080/"
        },
        "id": "kM2JbC6o9JqI",
        "outputId": "dc896d5d-a05b-4004-e071-b843be083ba2"
      },
      "execution_count": null,
      "outputs": [
        {
          "output_type": "stream",
          "name": "stdout",
          "text": [
            "[2.1, 2.5, 3.6, 4, 5, 6]\n",
            "[6, 5, 4, 3.6, 2.5, 2.1]\n"
          ]
        }
      ]
    },
    {
      "cell_type": "code",
      "source": [
        "versiones = [4, 2.5, 5, 3.6, 2.1, 6]\n",
        "print (versiones)\n",
        "\n",
        "versiones.sort()\n",
        "print (versiones)"
      ],
      "metadata": {
        "colab": {
          "base_uri": "https://localhost:8080/"
        },
        "id": "EoT7Vyfs9d7B",
        "outputId": "1b3b7ca6-eed9-4290-b47e-7ac547cef517"
      },
      "execution_count": null,
      "outputs": [
        {
          "output_type": "stream",
          "name": "stdout",
          "text": [
            "[4, 2.5, 5, 3.6, 2.1, 6]\n",
            "[2.1, 2.5, 3.6, 4, 5, 6]\n"
          ]
        }
      ]
    }
  ]
}